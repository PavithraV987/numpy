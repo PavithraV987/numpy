{
 "cells": [
  {
   "cell_type": "code",
   "execution_count": null,
   "id": "3f192198-aa87-4505-a570-f0745f4a88ec",
   "metadata": {},
   "outputs": [],
   "source": [
    "#Basic arithmetic operations\n",
    "#Control and conditional structures\n",
    "#loop--for,while,\n",
    "#User input\n",
    "#Strings\n",
    "#Integers\n",
    "#Floating values\n",
    "#Type casting\n",
    "\n"
   ]
  },
  {
   "cell_type": "code",
   "execution_count": 2,
   "id": "24a2397b-6d40-49e0-8a5d-20e391b5db52",
   "metadata": {},
   "outputs": [
    {
     "name": "stdout",
     "output_type": "stream",
     "text": [
      "<class 'int'>\n"
     ]
    }
   ],
   "source": [
    "A=6\n",
    "print(type(A))"
   ]
  },
  {
   "cell_type": "code",
   "execution_count": null,
   "id": "ee1cfa3d-9cc1-4789-a841-c8809a063ee0",
   "metadata": {},
   "outputs": [],
   "source": [
    "print(\"Hello\")"
   ]
  },
  {
   "cell_type": "code",
   "execution_count": 7,
   "id": "86847b09-8380-4d42-85e5-5bcc3f9169d5",
   "metadata": {},
   "outputs": [
    {
     "name": "stdout",
     "output_type": "stream",
     "text": [
      "My first name Pavithra and last nameV\n",
      "My first namePavithra and last_nameV\n"
     ]
    }
   ],
   "source": [
    "first_name=\"Pavithra\"\n",
    "last_name=\"V\"\n",
    "print(\"My first name {} and last name{}\".format(first_name,last_name))\n",
    "print(\"My first name{first} and last_name{last}\".format(last=last_name,first=first_name))\n"
   ]
  },
  {
   "cell_type": "markdown",
   "id": "807f3981-f514-4a77-a339-e3cb3711f063",
   "metadata": {},
   "source": [
    "# python Data structure and Structures "
   ]
  },
  {
   "cell_type": "code",
   "execution_count": 8,
   "id": "475ef0cc-f461-4467-9afb-966c8433d793",
   "metadata": {},
   "outputs": [
    {
     "data": {
      "text/plain": [
       "False"
      ]
     },
     "execution_count": 8,
     "metadata": {},
     "output_type": "execute_result"
    }
   ],
   "source": [
    "bool()"
   ]
  },
  {
   "cell_type": "code",
   "execution_count": 9,
   "id": "b730135d-7ea4-431f-8f02-b37b8b2cb84c",
   "metadata": {},
   "outputs": [
    {
     "data": {
      "text/plain": [
       "['mathematics', 'English']"
      ]
     },
     "execution_count": 9,
     "metadata": {},
     "output_type": "execute_result"
    }
   ],
   "source": [
    "#List \n",
    "l=[\"mathematics\",\"English\"] \n",
    "l\n"
   ]
  },
  {
   "cell_type": "code",
   "execution_count": 11,
   "id": "3649565d-2be4-40b0-955b-bf26189afd07",
   "metadata": {},
   "outputs": [
    {
     "data": {
      "text/plain": [
       "['mathematics', 'English', 'Kan', 'Kan']"
      ]
     },
     "execution_count": 11,
     "metadata": {},
     "output_type": "execute_result"
    }
   ],
   "source": [
    "l.append(\"Kan\")# add element at last\n",
    "l\n"
   ]
  },
  {
   "cell_type": "code",
   "execution_count": 14,
   "id": "eab8ce76-8e74-483a-9bd1-f92b1c86608b",
   "metadata": {},
   "outputs": [
    {
     "data": {
      "text/plain": [
       "['mathematics', 'English', 'Social', 'Kan', 'Kan']"
      ]
     },
     "execution_count": 14,
     "metadata": {},
     "output_type": "execute_result"
    }
   ],
   "source": [
    "l.insert(2,\"Social\") # add an element\n",
    "l"
   ]
  },
  {
   "cell_type": "code",
   "execution_count": 15,
   "id": "c2157c77-8cf0-4b3f-a98d-5df4a51b32ad",
   "metadata": {},
   "outputs": [
    {
     "data": {
      "text/plain": [
       "['mathematics', 'English', 'Social', 'Kan', 'Kan', 9, 8]"
      ]
     },
     "execution_count": 15,
     "metadata": {},
     "output_type": "execute_result"
    }
   ],
   "source": [
    "#Extend method\n",
    "l.extend([9,8])\n",
    "l"
   ]
  },
  {
   "cell_type": "code",
   "execution_count": 16,
   "id": "3ba2b704-c3f8-43df-b669-7b6b8d968c45",
   "metadata": {},
   "outputs": [
    {
     "data": {
      "text/plain": [
       "8"
      ]
     },
     "execution_count": 16,
     "metadata": {},
     "output_type": "execute_result"
    }
   ],
   "source": [
    "l.pop() # remove last element"
   ]
  },
  {
   "cell_type": "code",
   "execution_count": 17,
   "id": "379e4b81-e202-45f6-9cce-073180e554ad",
   "metadata": {},
   "outputs": [
    {
     "data": {
      "text/plain": [
       "['mathematics', 'English', 'Social', 'Kan', 'Kan', 9]"
      ]
     },
     "execution_count": 17,
     "metadata": {},
     "output_type": "execute_result"
    }
   ],
   "source": [
    "l"
   ]
  },
  {
   "cell_type": "code",
   "execution_count": 18,
   "id": "fcee96ee-0096-43c1-8922-8e172377d067",
   "metadata": {},
   "outputs": [
    {
     "data": {
      "text/plain": [
       "2"
      ]
     },
     "execution_count": 18,
     "metadata": {},
     "output_type": "execute_result"
    }
   ],
   "source": [
    "#Count() -- calculates no of occurances\n",
    "l=[1,1,2,4,5,6]\n",
    "l.count(1)"
   ]
  },
  {
   "cell_type": "code",
   "execution_count": null,
   "id": "5a42a9f8-3987-4b73-ac1d-4a580ba477a6",
   "metadata": {},
   "outputs": [],
   "source": [
    "#Sets ---Unordered collection of data type that is iterable ,mutable but no duplicate values"
   ]
  },
  {
   "cell_type": "code",
   "execution_count": 22,
   "id": "5fbd656b-ac15-4fb8-878f-91dbd6a0a08b",
   "metadata": {},
   "outputs": [
    {
     "name": "stdout",
     "output_type": "stream",
     "text": [
      "set()\n",
      "<class 'set'>\n"
     ]
    }
   ],
   "source": [
    "set_var=set()\n",
    "print(set_var)\n",
    "print(type(set_var))"
   ]
  },
  {
   "cell_type": "code",
   "execution_count": null,
   "id": "9cd2cd76-e55b-42bd-90a3-078c02c2164c",
   "metadata": {},
   "outputs": [],
   "source": [
    "#Dictionaries\n",
    "# set and dictionary are {}"
   ]
  },
  {
   "cell_type": "code",
   "execution_count": 23,
   "id": "62b3feee-9f26-43b5-a14c-8386b8167ddb",
   "metadata": {},
   "outputs": [
    {
     "name": "stdout",
     "output_type": "stream",
     "text": [
      "{'car1': {'Mercendes': 1960}, 'car2': {'Audi': 1970}, 'car3': {'Ambassador': 1980}}\n"
     ]
    }
   ],
   "source": [
    "car1_model={\"Mercendes\":1960}\n",
    "car2_model={\"Audi\":1970}\n",
    "car3_model={\"Ambassador\":1980}\n",
    "\n",
    "car_type={'car1':car1_model,'car2':car2_model,'car3':car3_model}\n",
    "print(car_type)\n",
    " "
   ]
  },
  {
   "cell_type": "code",
   "execution_count": 27,
   "id": "563d50bd-6038-44b3-89c7-f02789077b0c",
   "metadata": {},
   "outputs": [
    {
     "name": "stdout",
     "output_type": "stream",
     "text": [
      "{'Mercendes': 1960}\n"
     ]
    }
   ],
   "source": [
    "print(car_type['car1'])"
   ]
  },
  {
   "cell_type": "code",
   "execution_count": 28,
   "id": "ec2f0e83-764c-4615-ac57-f38eac23e140",
   "metadata": {},
   "outputs": [
    {
     "name": "stdout",
     "output_type": "stream",
     "text": [
      "1960\n"
     ]
    }
   ],
   "source": [
    "print(car_type['car1']['Mercendes'])"
   ]
  },
  {
   "cell_type": "code",
   "execution_count": 32,
   "id": "bc70aad7-ee6e-44ae-a2f6-2a57c5dc9777",
   "metadata": {},
   "outputs": [
    {
     "data": {
      "text/plain": [
       "0"
      ]
     },
     "execution_count": 32,
     "metadata": {},
     "output_type": "execute_result"
    }
   ],
   "source": [
    "#Tuples\n",
    "mu_tuples=(\"Pavi\",\"Teju\",\"Maggi\")\n",
    "mu_tuples.index(\"Pavi\")"
   ]
  },
  {
   "cell_type": "code",
   "execution_count": null,
   "id": "24586eaf-41c8-4eac-99c4-a6f5cdcb9d7a",
   "metadata": {},
   "outputs": [],
   "source": [
    "#07-06-24\n",
    "\n",
    "#FizzBuzz Problem: Write a program that prints the numbers from 1 to 100. But for multiples of three, print \"Fizz\" instead of the number, \n",
    "#and for the multiples of five, print \"Buzz\".\n",
    "#For numbers that are multiples of both three and five, print \"FizzBuzz\".\n",
    "#Palindrome Check: Write a Python function to check if a given string is a palindrome.\n",
    "#Reverse a String: Write a Python function to reverse a given string.\n",
    "#Anagram Check: Write a Python function to check if two given strings are anagrams of each other.\n",
    "#Sum of List Elements: Write a Python function to calculate the sum of all elements in a list.\n",
    "\n"
   ]
  },
  {
   "cell_type": "code",
   "execution_count": 36,
   "id": "0b68c1d9-90e1-43cb-a736-60d06329b2e7",
   "metadata": {},
   "outputs": [
    {
     "name": "stdin",
     "output_type": "stream",
     "text": [
      " 5\n"
     ]
    },
    {
     "name": "stdout",
     "output_type": "stream",
     "text": [
      "1\n",
      "2\n",
      "Fizz\n",
      "4\n",
      "Buzz\n"
     ]
    }
   ],
   "source": [
    "#Fizz buzz\n",
    "n=int(input())\n",
    "for i in range(1,n+1):\n",
    "    if i%5==0 and i%3==0:\n",
    "        print(\"Fizzbuzz\")\n",
    "    elif i%3==0:\n",
    "        print(\"Fizz\")\n",
    "    elif i%5==0:\n",
    "        print(\"Buzz\")\n",
    "    else:\n",
    "        print(i)\n"
   ]
  },
  {
   "cell_type": "code",
   "execution_count": 37,
   "id": "946323f7-fed3-4c53-a3df-e6dda79dbb9f",
   "metadata": {},
   "outputs": [
    {
     "name": "stdin",
     "output_type": "stream",
     "text": [
      "Enter a word soos\n"
     ]
    },
    {
     "name": "stdout",
     "output_type": "stream",
     "text": [
      "It is palindrome\n"
     ]
    }
   ],
   "source": [
    "#Palindome\n",
    "s=input(\"Enter a word\")\n",
    "s1=s[::-1]\n",
    "if(s==s1):\n",
    "    print(\"It is palindrome\")\n",
    "else:\n",
    "    print(\"It is not palindrome\")"
   ]
  },
  {
   "cell_type": "code",
   "execution_count": 40,
   "id": "a1f106d9-754d-49c4-b2d6-a25473021155",
   "metadata": {},
   "outputs": [
    {
     "name": "stdin",
     "output_type": "stream",
     "text": [
      "Enter a string pavi\n"
     ]
    },
    {
     "name": "stdout",
     "output_type": "stream",
     "text": [
      "ivap\n"
     ]
    }
   ],
   "source": [
    "#Reverse a String\n",
    "s=input(\"Enter a string\")\n",
    "s1=s[::-1]\n",
    "print(s1)"
   ]
  },
  {
   "cell_type": "code",
   "execution_count": 41,
   "id": "e6a8e2e8-d569-4eda-9d31-da9b9aed6edf",
   "metadata": {},
   "outputs": [
    {
     "name": "stdout",
     "output_type": "stream",
     "text": [
      "Orginal string Hello world\n",
      "reversed string dlrow olleH\n"
     ]
    }
   ],
   "source": [
    "#palindome function\n",
    "def reverse_string(s):\n",
    "    return s[::-1]\n",
    "\n",
    "input_string=\"Hello world\"\n",
    "reversed_string=reverse_string(input_string)\n",
    "print(\"Orginal string\",input_string)\n",
    "print(\"reversed string\",reversed_string)"
   ]
  },
  {
   "cell_type": "raw",
   "id": "fcb49dff-ba3b-4009-844b-b58b6cec4a63",
   "metadata": {},
   "source": [
    "#Numpy"
   ]
  },
  {
   "cell_type": "code",
   "execution_count": null,
   "id": "9fb6520f-36c5-4d8b-b994-095c56cfdff5",
   "metadata": {},
   "outputs": [],
   "source": [
    "#Numpy is a general purpose array-processing package.It provides a high performance multi-dimensional array object and tools for working with \n",
    "#these arrays.\n",
    "#It is fundamentalpackage for scientific computing with python"
   ]
  },
  {
   "cell_type": "code",
   "execution_count": null,
   "id": "0ff593e2-1d3b-4637-aa8f-ebbe3cabd1bd",
   "metadata": {},
   "outputs": [],
   "source": [
    "#Array\n",
    "# An array is a data structure that stores values of same data type.In python this is the main difference between arrays and lists .\n",
    "#While python lists can contain values corresponding to different data types,arrays in python can only contains values corresponding to same datatype"
   ]
  },
  {
   "cell_type": "code",
   "execution_count": 1,
   "id": "13f506b7-1f2b-4531-b6e7-48697badc0a8",
   "metadata": {},
   "outputs": [],
   "source": [
    "import numpy as np"
   ]
  },
  {
   "cell_type": "code",
   "execution_count": 3,
   "id": "f4b67301-4932-47b3-91d4-ec9283f4a013",
   "metadata": {},
   "outputs": [],
   "source": [
    "my_lst=[1,2,3,4,5]\n",
    "arr=np.array(my_lst)"
   ]
  },
  {
   "cell_type": "code",
   "execution_count": 4,
   "id": "4bd06cd7-5356-4be1-b900-50fb4dcdf956",
   "metadata": {},
   "outputs": [
    {
     "data": {
      "text/plain": [
       "numpy.ndarray"
      ]
     },
     "execution_count": 4,
     "metadata": {},
     "output_type": "execute_result"
    }
   ],
   "source": [
    "type(arr)"
   ]
  },
  {
   "cell_type": "code",
   "execution_count": 5,
   "id": "c7852855-c8da-4c36-bb00-88b98536112d",
   "metadata": {},
   "outputs": [
    {
     "name": "stdout",
     "output_type": "stream",
     "text": [
      "[1 2 3 4 5]\n"
     ]
    }
   ],
   "source": [
    "print(arr)"
   ]
  },
  {
   "cell_type": "code",
   "execution_count": 6,
   "id": "fec541c2-b30b-4100-bf97-ed36d4da0c75",
   "metadata": {},
   "outputs": [
    {
     "data": {
      "text/plain": [
       "array([1, 2, 3, 4, 5])"
      ]
     },
     "execution_count": 6,
     "metadata": {},
     "output_type": "execute_result"
    }
   ],
   "source": [
    "arr"
   ]
  },
  {
   "cell_type": "code",
   "execution_count": 8,
   "id": "fccc151e-3374-4669-b64d-afc8cfb7e3d2",
   "metadata": {},
   "outputs": [
    {
     "data": {
      "text/plain": [
       "(5,)"
      ]
     },
     "execution_count": 8,
     "metadata": {},
     "output_type": "execute_result"
    }
   ],
   "source": [
    "arr.shape  # 5 repersents no of rows"
   ]
  },
  {
   "cell_type": "code",
   "execution_count": 9,
   "id": "830f71ba-5e6a-4029-91c9-f558bfede008",
   "metadata": {},
   "outputs": [],
   "source": [
    "#multi dimensional array\n",
    "my_lst1=[1,2,3,4,5]\n",
    "my_lst2=[2,3,4,5,6]\n",
    "my_lst3=[9,7,6,8,9]\n",
    "\n",
    "arr=np.array([my_lst1,my_lst2,my_lst3])"
   ]
  },
  {
   "cell_type": "code",
   "execution_count": 10,
   "id": "bee65cf5-ecf1-4458-9217-7bb004e558c4",
   "metadata": {},
   "outputs": [
    {
     "data": {
      "text/plain": [
       "array([[1, 2, 3, 4, 5],\n",
       "       [2, 3, 4, 5, 6],\n",
       "       [9, 7, 6, 8, 9]])"
      ]
     },
     "execution_count": 10,
     "metadata": {},
     "output_type": "execute_result"
    }
   ],
   "source": [
    "arr"
   ]
  },
  {
   "cell_type": "code",
   "execution_count": 11,
   "id": "ae1bb6f3-02a6-48f3-94d3-eb28e9db0211",
   "metadata": {},
   "outputs": [
    {
     "data": {
      "text/plain": [
       "(3, 5)"
      ]
     },
     "execution_count": 11,
     "metadata": {},
     "output_type": "execute_result"
    }
   ],
   "source": [
    "arr.shape # 3-rep rows and 5 rep columns"
   ]
  },
  {
   "cell_type": "code",
   "execution_count": null,
   "id": "8d2806d6-c8f9-4da7-bcf0-909dbc72b699",
   "metadata": {},
   "outputs": [],
   "source": [
    "# for reshape it should have same number of elements\n",
    "#arange-one dimensional array\n",
    "#linspace=equally spaced points"
   ]
  },
  {
   "cell_type": "code",
   "execution_count": 12,
   "id": "1287bdbb-8de9-42a0-a0be-ad738d6caece",
   "metadata": {},
   "outputs": [
    {
     "data": {
      "text/plain": [
       "array([[1, 2, 3],\n",
       "       [4, 5, 2],\n",
       "       [3, 4, 5],\n",
       "       [6, 9, 7],\n",
       "       [6, 8, 9]])"
      ]
     },
     "execution_count": 12,
     "metadata": {},
     "output_type": "execute_result"
    }
   ],
   "source": [
    "arr.reshape(5,3)"
   ]
  },
  {
   "cell_type": "code",
   "execution_count": 13,
   "id": "fa07c07c-abda-49b4-8c34-4825fb984173",
   "metadata": {},
   "outputs": [
    {
     "data": {
      "text/plain": [
       "array([[1, 2, 3, 4, 5, 2, 3, 4, 5, 6, 9, 7, 6, 8, 9]])"
      ]
     },
     "execution_count": 13,
     "metadata": {},
     "output_type": "execute_result"
    }
   ],
   "source": [
    "arr.reshape(1,15)"
   ]
  },
  {
   "cell_type": "code",
   "execution_count": 14,
   "id": "d2ad1c5b-b5fe-42ec-b4cf-bb4005d9668e",
   "metadata": {},
   "outputs": [
    {
     "data": {
      "text/plain": [
       "(3, 5)"
      ]
     },
     "execution_count": 14,
     "metadata": {},
     "output_type": "execute_result"
    }
   ],
   "source": [
    "arr.shape"
   ]
  },
  {
   "cell_type": "code",
   "execution_count": null,
   "id": "50a91657-90dd-482f-8f54-f5b2eb6f0cec",
   "metadata": {},
   "outputs": [],
   "source": [
    "#Indexing"
   ]
  },
  {
   "cell_type": "code",
   "execution_count": 15,
   "id": "09b7bc32-cdfb-4380-b439-855087853b8d",
   "metadata": {},
   "outputs": [
    {
     "data": {
      "text/plain": [
       "5"
      ]
     },
     "execution_count": 15,
     "metadata": {},
     "output_type": "execute_result"
    }
   ],
   "source": [
    "arr=np.array([1,2,3,4,5,6,6,7,8])\n",
    "arr[4]"
   ]
  },
  {
   "cell_type": "code",
   "execution_count": 16,
   "id": "2f8222e2-6040-4520-80ea-368b5f9c9ab9",
   "metadata": {},
   "outputs": [
    {
     "data": {
      "text/plain": [
       "array([1, 2, 3, 4, 5, 6, 6, 7, 8])"
      ]
     },
     "execution_count": 16,
     "metadata": {},
     "output_type": "execute_result"
    }
   ],
   "source": [
    "arr"
   ]
  },
  {
   "cell_type": "code",
   "execution_count": 17,
   "id": "621a67b4-78b2-405c-b79c-78e1bb7605af",
   "metadata": {},
   "outputs": [
    {
     "data": {
      "text/plain": [
       "array([[1, 2, 3, 4, 5],\n",
       "       [2, 3, 4, 5, 6],\n",
       "       [9, 7, 6, 8, 9]])"
      ]
     },
     "execution_count": 17,
     "metadata": {},
     "output_type": "execute_result"
    }
   ],
   "source": [
    "arr=np.array([my_lst1,my_lst2,my_lst3])\n",
    "arr"
   ]
  },
  {
   "cell_type": "code",
   "execution_count": 19,
   "id": "04f853c8-4d34-46ff-b11d-39c41396affa",
   "metadata": {},
   "outputs": [
    {
     "data": {
      "text/plain": [
       "array([[5, 6],\n",
       "       [8, 9]])"
      ]
     },
     "execution_count": 19,
     "metadata": {},
     "output_type": "execute_result"
    }
   ],
   "source": [
    "arr[1:,3:5]"
   ]
  },
  {
   "cell_type": "code",
   "execution_count": 21,
   "id": "48352c8e-38ff-4d86-9859-7760b6408119",
   "metadata": {},
   "outputs": [
    {
     "data": {
      "text/plain": [
       "array([[4, 5],\n",
       "       [6, 8]])"
      ]
     },
     "execution_count": 21,
     "metadata": {},
     "output_type": "execute_result"
    }
   ],
   "source": [
    "arr[1:,2:4]"
   ]
  },
  {
   "cell_type": "code",
   "execution_count": 24,
   "id": "c81e3bf5-da82-4f69-822a-7f69416e9789",
   "metadata": {},
   "outputs": [
    {
     "data": {
      "text/plain": [
       "array([[3, 4, 5]])"
      ]
     },
     "execution_count": 24,
     "metadata": {},
     "output_type": "execute_result"
    }
   ],
   "source": [
    "arr[1:2,1:4]"
   ]
  },
  {
   "cell_type": "code",
   "execution_count": 25,
   "id": "3bf30304-c604-4f2b-9ac0-67343bccb09f",
   "metadata": {},
   "outputs": [
    {
     "data": {
      "text/plain": [
       "array([0, 2, 4, 6, 8])"
      ]
     },
     "execution_count": 25,
     "metadata": {},
     "output_type": "execute_result"
    }
   ],
   "source": [
    "arr=np.arange(0,10,step=2)\n",
    "arr"
   ]
  },
  {
   "cell_type": "code",
   "execution_count": 26,
   "id": "4d206f91-385a-47a0-9f84-25af9ad54a27",
   "metadata": {},
   "outputs": [
    {
     "data": {
      "text/plain": [
       "array([ 1.        ,  1.18367347,  1.36734694,  1.55102041,  1.73469388,\n",
       "        1.91836735,  2.10204082,  2.28571429,  2.46938776,  2.65306122,\n",
       "        2.83673469,  3.02040816,  3.20408163,  3.3877551 ,  3.57142857,\n",
       "        3.75510204,  3.93877551,  4.12244898,  4.30612245,  4.48979592,\n",
       "        4.67346939,  4.85714286,  5.04081633,  5.2244898 ,  5.40816327,\n",
       "        5.59183673,  5.7755102 ,  5.95918367,  6.14285714,  6.32653061,\n",
       "        6.51020408,  6.69387755,  6.87755102,  7.06122449,  7.24489796,\n",
       "        7.42857143,  7.6122449 ,  7.79591837,  7.97959184,  8.16326531,\n",
       "        8.34693878,  8.53061224,  8.71428571,  8.89795918,  9.08163265,\n",
       "        9.26530612,  9.44897959,  9.63265306,  9.81632653, 10.        ])"
      ]
     },
     "execution_count": 26,
     "metadata": {},
     "output_type": "execute_result"
    }
   ],
   "source": [
    "np.linspace(1,10,50)"
   ]
  },
  {
   "cell_type": "code",
   "execution_count": 27,
   "id": "6f7918fc-cbaf-4b88-9822-4629466116cf",
   "metadata": {},
   "outputs": [
    {
     "data": {
      "text/plain": [
       "array([  0,   2,   4, 100, 100])"
      ]
     },
     "execution_count": 27,
     "metadata": {},
     "output_type": "execute_result"
    }
   ],
   "source": [
    "#copy() --  function and broadcasting\n",
    "arr[3:]=100\n",
    "arr"
   ]
  },
  {
   "cell_type": "code",
   "execution_count": 29,
   "id": "4d3429ca-0d85-4c22-b95d-5fceccd41793",
   "metadata": {},
   "outputs": [
    {
     "data": {
      "text/plain": [
       "array([  0,   2,   4, 500, 500])"
      ]
     },
     "execution_count": 29,
     "metadata": {},
     "output_type": "execute_result"
    }
   ],
   "source": [
    "arr1=arr\n",
    "arr1[3:]=500\n",
    "arr1"
   ]
  },
  {
   "cell_type": "code",
   "execution_count": 31,
   "id": "b3e78add-fe90-4b68-bc1e-a96892454f7d",
   "metadata": {},
   "outputs": [
    {
     "data": {
      "text/plain": [
       "array([  0,   2,   4, 500, 500])"
      ]
     },
     "execution_count": 31,
     "metadata": {},
     "output_type": "execute_result"
    }
   ],
   "source": [
    "arr"
   ]
  },
  {
   "cell_type": "code",
   "execution_count": null,
   "id": "9372826a-3c19-4a4b-9580-417220a668e0",
   "metadata": {},
   "outputs": [],
   "source": [
    "#value type -- not save in same memory\n",
    "#referece type - saving same memory"
   ]
  },
  {
   "cell_type": "code",
   "execution_count": null,
   "id": "66453ba1-983a-471b-abbb-901773142d8a",
   "metadata": {},
   "outputs": [],
   "source": []
  },
  {
   "cell_type": "code",
   "execution_count": 34,
   "id": "203c08eb-a872-4f3f-b2e3-248905c7ec74",
   "metadata": {},
   "outputs": [
    {
     "name": "stdout",
     "output_type": "stream",
     "text": [
      "[  0   2   4 500 500]\n",
      "[   0    2    4 1000 1000]\n"
     ]
    }
   ],
   "source": [
    "arr1=arr.copy() # copy stores in different memory location\n",
    "print(arr)\n",
    "arr1[3:]=1000\n",
    "print(arr1)"
   ]
  },
  {
   "cell_type": "code",
   "execution_count": 35,
   "id": "8aa8b693-1d3e-465a-96e0-840cb1302472",
   "metadata": {},
   "outputs": [
    {
     "data": {
      "text/plain": [
       "array([  0,   2,   4, 500, 500])"
      ]
     },
     "execution_count": 35,
     "metadata": {},
     "output_type": "execute_result"
    }
   ],
   "source": [
    "arr"
   ]
  },
  {
   "cell_type": "code",
   "execution_count": 39,
   "id": "33b69fd3-ecd5-4379-ab75-7b2cc26898af",
   "metadata": {},
   "outputs": [
    {
     "data": {
      "text/plain": [
       "array([0, 2, 4])"
      ]
     },
     "execution_count": 39,
     "metadata": {},
     "output_type": "execute_result"
    }
   ],
   "source": [
    "#some condition s very useful in exploratory data analysis\n",
    "\n",
    "val=2\n",
    "arr/2    #(all operations)\n",
    "arr[arr<300]"
   ]
  },
  {
   "cell_type": "code",
   "execution_count": 40,
   "id": "3d1a9e78-1cbd-4f77-9beb-7ef960a1260d",
   "metadata": {},
   "outputs": [
    {
     "data": {
      "text/plain": [
       "array([[0, 1],\n",
       "       [2, 3],\n",
       "       [4, 5],\n",
       "       [6, 7],\n",
       "       [8, 9]])"
      ]
     },
     "execution_count": 40,
     "metadata": {},
     "output_type": "execute_result"
    }
   ],
   "source": [
    "#create arrays and reshape\n",
    "np.arange(0,10).reshape(5,2)"
   ]
  },
  {
   "cell_type": "code",
   "execution_count": 42,
   "id": "73b98436-926d-4948-8060-6f7c6c8637a6",
   "metadata": {},
   "outputs": [
    {
     "data": {
      "text/plain": [
       "array([[ 0,  1],\n",
       "       [ 4,  9],\n",
       "       [16, 25],\n",
       "       [36, 49],\n",
       "       [64, 81]])"
      ]
     },
     "execution_count": 42,
     "metadata": {},
     "output_type": "execute_result"
    }
   ],
   "source": [
    "arr1=np.arange(0,10).reshape(5,2)\n",
    "arr2=np.arange(0,10).reshape(5,2)\n",
    "arr1*arr2"
   ]
  },
  {
   "cell_type": "code",
   "execution_count": 43,
   "id": "63711c4e-4918-4869-ba30-94efe5d08cba",
   "metadata": {},
   "outputs": [
    {
     "data": {
      "text/plain": [
       "array([1., 1., 1., 1.])"
      ]
     },
     "execution_count": 43,
     "metadata": {},
     "output_type": "execute_result"
    }
   ],
   "source": [
    "#ones\n",
    "np.ones(4)"
   ]
  },
  {
   "cell_type": "code",
   "execution_count": 44,
   "id": "5ede5760-56b6-4a46-9051-0fa37d58074d",
   "metadata": {},
   "outputs": [
    {
     "data": {
      "text/plain": [
       "array([1, 1, 1, 1])"
      ]
     },
     "execution_count": 44,
     "metadata": {},
     "output_type": "execute_result"
    }
   ],
   "source": [
    "np.ones(4,dtype=int)"
   ]
  },
  {
   "cell_type": "code",
   "execution_count": 45,
   "id": "104b414a-4ded-4287-b215-01bbcad8dfa2",
   "metadata": {},
   "outputs": [
    {
     "data": {
      "text/plain": [
       "array([[1., 1., 1., 1., 1.],\n",
       "       [1., 1., 1., 1., 1.]])"
      ]
     },
     "execution_count": 45,
     "metadata": {},
     "output_type": "execute_result"
    }
   ],
   "source": [
    "np.ones((2,5),dtype=float)"
   ]
  },
  {
   "cell_type": "code",
   "execution_count": 46,
   "id": "90f4ccd5-fd90-4ab5-82cf-33b14d0773ff",
   "metadata": {},
   "outputs": [
    {
     "data": {
      "text/plain": [
       "array([[0.19886003, 0.96189148, 0.63456779],\n",
       "       [0.45958652, 0.84036068, 0.34252941],\n",
       "       [0.25294029, 0.48262551, 0.76219774]])"
      ]
     },
     "execution_count": 46,
     "metadata": {},
     "output_type": "execute_result"
    }
   ],
   "source": [
    "#random distribution   # values betweeen 0 to 1)\n",
    "np.random.rand(3,3)"
   ]
  },
  {
   "cell_type": "code",
   "execution_count": 54,
   "id": "56f0cb3b-b02e-4023-b943-5ccfc2ebe471",
   "metadata": {},
   "outputs": [
    {
     "data": {
      "text/plain": [
       "array([[ 1.82435313, -1.32008295,  0.20244568,  0.86662343],\n",
       "       [-1.19216533,  0.96824801, -1.71415568,  0.5020125 ],\n",
       "       [ 1.8759094 ,  2.52282582, -0.31127961,  0.17647512],\n",
       "       [-1.28967823,  0.91564452, -2.14063857, -0.90314295]])"
      ]
     },
     "execution_count": 54,
     "metadata": {},
     "output_type": "execute_result"
    }
   ],
   "source": [
    "arr_ex=np.random.randn(4,4)   #std normal distribution\n",
    "arr_ex"
   ]
  },
  {
   "cell_type": "code",
   "execution_count": 55,
   "id": "c278cfba-147f-44a9-83cf-bb410d11e093",
   "metadata": {},
   "outputs": [],
   "source": [
    "import seaborn as sns\n",
    "import pandas as pd\n",
    "import matplotlib as mp"
   ]
  },
  {
   "cell_type": "code",
   "execution_count": 56,
   "id": "01fab15a-967b-4647-96cf-ce9b9cbb183b",
   "metadata": {},
   "outputs": [
    {
     "name": "stderr",
     "output_type": "stream",
     "text": [
      "C:\\Users\\Admin\\AppData\\Local\\Temp\\ipykernel_9584\\1832295236.py:1: UserWarning: \n",
      "\n",
      "`distplot` is a deprecated function and will be removed in seaborn v0.14.0.\n",
      "\n",
      "Please adapt your code to use either `displot` (a figure-level function with\n",
      "similar flexibility) or `histplot` (an axes-level function for histograms).\n",
      "\n",
      "For a guide to updating your code to use the new functions, please see\n",
      "https://gist.github.com/mwaskom/de44147ed2974457ad6372750bbe5751\n",
      "\n",
      "  sns.distplot(pd.DataFrame(arr_ex.reshape(16,1)))\n",
      "C:\\Users\\Admin\\OneDrive\\Documents\\Anaconda\\Lib\\site-packages\\seaborn\\_oldcore.py:1119: FutureWarning: use_inf_as_na option is deprecated and will be removed in a future version. Convert inf values to NaN before operating instead.\n",
      "  with pd.option_context('mode.use_inf_as_na', True):\n"
     ]
    },
    {
     "data": {
      "text/plain": [
       "<Axes: ylabel='Density'>"
      ]
     },
     "execution_count": 56,
     "metadata": {},
     "output_type": "execute_result"
    },
    {
     "data": {
      "image/png": "[encoded data removed]",
      "text/plain": [
       "<Figure size 640x480 with 1 Axes>"
      ]
     },
     "metadata": {},
     "output_type": "display_data"
    }
   ],
   "source": [
    "sns.distplot(pd.DataFrame(arr_ex.reshape(16,1)))"
   ]
  },
  {
   "cell_type": "code",
   "execution_count": 59,
   "id": "931382a0-d7af-4591-944a-830451c8491e",
   "metadata": {},
   "outputs": [
    {
     "data": {
      "text/plain": [
       "array([[59, 23, 73, 17],\n",
       "       [24, 22, 53,  4]])"
      ]
     },
     "execution_count": 59,
     "metadata": {},
     "output_type": "execute_result"
    }
   ],
   "source": [
    "np.random.randint(0,100,8).reshape(2,4)"
   ]
  },
  {
   "cell_type": "code",
   "execution_count": 62,
   "id": "1976db49-da60-4290-8763-6b72018c3a18",
   "metadata": {},
   "outputs": [
    {
     "data": {
      "text/plain": [
       "array([0.87563089, 0.50426101, 0.7981486 , 0.83771017, 0.12246541,\n",
       "       0.26016709, 0.37143825, 0.06929609, 0.31255618, 0.32859318,\n",
       "       0.30746002, 0.02956937, 0.1626621 , 0.96138928, 0.78569123,\n",
       "       0.41809321, 0.22059852, 0.279697  , 0.80071699, 0.67605631,\n",
       "       0.90270986, 0.00820892, 0.01276527, 0.34930297, 0.44842836,\n",
       "       0.37643653, 0.61124572, 0.39376649, 0.67994655, 0.80926261,\n",
       "       0.58926313, 0.78293483, 0.2765559 , 0.32225727, 0.38581266,\n",
       "       0.68451889, 0.57143013, 0.41519224, 0.69010306, 0.98618862,\n",
       "       0.62433366, 0.37093655, 0.3029485 , 0.62930893, 0.33683325,\n",
       "       0.80737577, 0.38440512, 0.3614961 , 0.03954818, 0.50359284,\n",
       "       0.55625133, 0.63833153, 0.57148919, 0.98069488, 0.31333554,\n",
       "       0.18644325, 0.7083603 , 0.23302667, 0.18038409, 0.88373824,\n",
       "       0.291083  , 0.85799519, 0.72826029, 0.98659222, 0.71561103,\n",
       "       0.94815292, 0.11942084, 0.20825997, 0.89971247, 0.23993385,\n",
       "       0.56768439, 0.273132  , 0.81860787, 0.57162023, 0.5817381 ,\n",
       "       0.14679841, 0.31143294, 0.09847364, 0.04572842, 0.05449787,\n",
       "       0.64081938, 0.7752799 , 0.21935647, 0.62540161, 0.50730173,\n",
       "       0.60014937, 0.26871889, 0.66362916, 0.15698511, 0.53140789,\n",
       "       0.52315221, 0.09093742, 0.76817422, 0.86522738, 0.33329129,\n",
       "       0.1811281 , 0.26600493, 0.90172851, 0.3795704 , 0.27442262])"
      ]
     },
     "execution_count": 62,
     "metadata": {},
     "output_type": "execute_result"
    }
   ],
   "source": [
    "np.random.random_sample(100)"
   ]
  },
  {
   "cell_type": "code",
   "execution_count": null,
   "id": "e8cb6d25-640e-4f55-8ceb-c825ee961f2a",
   "metadata": {},
   "outputs": [],
   "source": []
  }
 ],
 "metadata": {
  "kernelspec": {
   "display_name": "Python 3 (ipykernel)",
   "language": "python",
   "name": "python3"
  },
  "language_info": {
   "codemirror_mode": {
    "name": "ipython",
    "version": 3
   },
   "file_extension": ".py",
   "mimetype": "text/x-python",
   "name": "python",
   "nbconvert_exporter": "python",
   "pygments_lexer": "ipython3",
   "version": "3.11.7"
  }
 },
 "nbformat": 4,
 "nbformat_minor": 5
}
